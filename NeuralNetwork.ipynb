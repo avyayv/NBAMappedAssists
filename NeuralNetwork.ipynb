{
 "cells": [
  {
   "cell_type": "code",
   "execution_count": 1,
   "metadata": {},
   "outputs": [
    {
     "name": "stderr",
     "output_type": "stream",
     "text": [
      "Using TensorFlow backend.\n"
     ]
    }
   ],
   "source": [
    "import pandas as pd\n",
    "import numpy as np\n",
    "import sys\n",
    "import keras\n",
    "from nba_help import get_basic_statistics"
   ]
  },
  {
   "cell_type": "code",
   "execution_count": 2,
   "metadata": {},
   "outputs": [],
   "source": [
    "from tensorflow.keras.backend import set_session\n",
    "\n",
    "import tensorflow as tf\n",
    "config = tf.ConfigProto()\n",
    "config.gpu_options.allow_growth = True  # dynamically grow the memory used on the GPU\n",
    "config.log_device_placement = True  # to log device placement (on which device the operation ran)\n",
    "sess = tf.Session(config=config)\n",
    "set_session(sess)  # set this TensorFlow session as the default session for Keras"
   ]
  },
  {
   "cell_type": "code",
   "execution_count": 3,
   "metadata": {},
   "outputs": [],
   "source": [
    "score_assist_defend_make_df = pd.read_csv(\"data/aggregated/assist_new_algo.csv\")\n",
    "score_assist_defend_miss_df = pd.read_csv(\"data/aggregated/miss_new_algo.csv\")"
   ]
  },
  {
   "cell_type": "code",
   "execution_count": 4,
   "metadata": {},
   "outputs": [],
   "source": [
    "score_assist_defend_make_df = score_assist_defend_make_df.loc[score_assist_defend_make_df['TeamName'].isnull()==False]  \n",
    "score_assist_defend_miss_df = score_assist_defend_miss_df.loc[score_assist_defend_miss_df['TeamName'].isnull()==False]  "
   ]
  },
  {
   "cell_type": "code",
   "execution_count": 5,
   "metadata": {},
   "outputs": [],
   "source": [
    "score_assist_defend_make_df = score_assist_defend_make_df.loc[score_assist_defend_make_df['OtherTeamName'].isnull()==False]  \n",
    "score_assist_defend_miss_df = score_assist_defend_miss_df.loc[score_assist_defend_miss_df['OtherTeamName'].isnull()==False]  "
   ]
  },
  {
   "cell_type": "code",
   "execution_count": 6,
   "metadata": {},
   "outputs": [],
   "source": [
    "score_assist_defend_make_df['Made'] = 1\n",
    "score_assist_defend_miss_df['Made'] = 0"
   ]
  },
  {
   "cell_type": "code",
   "execution_count": 7,
   "metadata": {},
   "outputs": [],
   "source": [
    "score_assist_defend = pd.concat([score_assist_defend_make_df,\n",
    "                                 score_assist_defend_miss_df],ignore_index=True, sort=False)"
   ]
  },
  {
   "cell_type": "code",
   "execution_count": 8,
   "metadata": {},
   "outputs": [],
   "source": [
    "def get_train_for_row(row):\n",
    "    scorer = np.zeros((55, 60))\n",
    "    assist = np.zeros((55, 60))\n",
    "    scorer_defend = np.zeros((55, 60))\n",
    "    assist_defend = np.zeros((55, 60))\n",
    "\n",
    "    assist_x = int(row['AssistorX'])\n",
    "    assist_y = int(row['AssistorY'])\n",
    "\n",
    "    assist[assist_x, assist_y] = 1\n",
    "\n",
    "    scorer_x = int(row['ScorerX'])\n",
    "    scorer_y = int(row['ScorerY'])\n",
    "\n",
    "    scorer[scorer_x, scorer_y] = 1\n",
    "\n",
    "    pass_defender_x = int(row['PassDefenderX'])\n",
    "    pass_defender_y = int(row['PassDefenderY'])\n",
    "\n",
    "    assist_defend[pass_defender_x, pass_defender_y] = 1\n",
    "\n",
    "    shot_defender_x = int(row['ShotDefenderX'])\n",
    "    shot_defender_y = int(row['ShotDefenderY'])\n",
    "    scorer_defend[shot_defender_x, shot_defender_y] = 1\n",
    "\n",
    "    return (scorer, assist, scorer_defend, assist_defend)"
   ]
  },
  {
   "cell_type": "code",
   "execution_count": 9,
   "metadata": {},
   "outputs": [],
   "source": [
    "X = []\n",
    "y = []\n",
    "for i, row in score_assist_defend.iterrows():\n",
    "    X.append(get_train_for_row(row))\n",
    "    y.append(row['Made'])\n",
    "X = np.array(X).reshape(len(X), 55,60,4)\n",
    "y = np.array(y)"
   ]
  },
  {
   "cell_type": "code",
   "execution_count": 20,
   "metadata": {},
   "outputs": [],
   "source": [
    "from keras.models import Sequential\n",
    "from keras import layers\n",
    "def get_model():\n",
    "    model = Sequential()\n",
    "    model.add(layers.Conv2D(32, (5,5), activation='relu', input_shape=(55, 60, 4), padding='same'))\n",
    "    model.add(layers.Conv2D(64, (3,3), activation='relu', padding='same'))\n",
    "    model.add(layers.MaxPooling2D((3, 3)))\n",
    "    model.add(layers.Conv2D(128, (2,2), activation='relu', padding='same'))\n",
    "    model.add(layers.MaxPooling2D((2, 2)))\n",
    "    model.add(layers.Conv2D(256, (2,2), activation='relu', padding='same'))\n",
    "    model.add(layers.MaxPooling2D((2, 2)))\n",
    "    model.add(layers.Flatten())\n",
    "    model.add(layers.Dense(200, activation='relu'))\n",
    "    model.add(layers.Dense(1, activation='sigmoid'))\n",
    "    model.compile(loss='binary_crossentropy',\n",
    "              optimizer='sgd',\n",
    "              metrics=['accuracy'])\n",
    "    return model"
   ]
  },
  {
   "cell_type": "code",
   "execution_count": 21,
   "metadata": {},
   "outputs": [],
   "source": [
    "my_callbacks = [\n",
    "    keras.callbacks.EarlyStopping(patience=2),\n",
    "    keras.callbacks.ModelCheckpoint(filepath='model.{epoch:02d}-{val_loss:.2f}.h5'),\n",
    "    keras.callbacks.TensorBoard(log_dir='./logs'),\n",
    "]"
   ]
  },
  {
   "cell_type": "code",
   "execution_count": 22,
   "metadata": {},
   "outputs": [
    {
     "name": "stdout",
     "output_type": "stream",
     "text": [
      "Train on 17630 samples, validate on 4408 samples\n",
      "Epoch 1/100\n",
      "17630/17630 [==============================] - 10s 556us/step - loss: 0.6694 - acc: 0.6161 - val_loss: 0.9406 - val_acc: 0.0000e+00\n",
      "Epoch 2/100\n",
      "17630/17630 [==============================] - 10s 554us/step - loss: 0.6646 - acc: 0.6189 - val_loss: 0.9733 - val_acc: 0.0000e+00\n",
      "Epoch 3/100\n",
      "17630/17630 [==============================] - 10s 545us/step - loss: 0.6646 - acc: 0.6189 - val_loss: 0.9676 - val_acc: 0.0000e+00\n"
     ]
    },
    {
     "data": {
      "text/plain": [
       "<keras.callbacks.History at 0x7f32e8ad4080>"
      ]
     },
     "execution_count": 22,
     "metadata": {},
     "output_type": "execute_result"
    }
   ],
   "source": [
    "model = get_model()\n",
    "model.fit(X, y, epochs=100, validation_split=0.2, shuffle=True, callbacks=my_callbacks)"
   ]
  },
  {
   "cell_type": "code",
   "execution_count": null,
   "metadata": {},
   "outputs": [],
   "source": [
    "url = 'http://stats.nba.com/stats/shotchart'\n",
    "headers = "
   ]
  }
 ],
 "metadata": {
  "kernelspec": {
   "display_name": "Python 3",
   "language": "python",
   "name": "python3"
  },
  "language_info": {
   "codemirror_mode": {
    "name": "ipython",
    "version": 3
   },
   "file_extension": ".py",
   "mimetype": "text/x-python",
   "name": "python",
   "nbconvert_exporter": "python",
   "pygments_lexer": "ipython3",
   "version": "3.7.3"
  }
 },
 "nbformat": 4,
 "nbformat_minor": 2
}
