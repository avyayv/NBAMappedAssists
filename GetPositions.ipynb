{
 "cells": [
  {
   "cell_type": "code",
   "execution_count": 28,
   "metadata": {},
   "outputs": [],
   "source": [
    "import requests\n",
    "import json\n",
    "import pandas as pd\n",
    "import numpy as np"
   ]
  },
  {
   "cell_type": "code",
   "execution_count": 5,
   "metadata": {},
   "outputs": [],
   "source": [
    "\"\"\"\n",
    "Send request to NBA API so that it seems like this is a browser request from stats.nba.com\n",
    "\"\"\"\n",
    "headers = {\n",
    "    'Accept-Encoding': 'gzip, deflate, sdch',\n",
    "    'Accept-Language': 'en-US,en;q=0.8,ru;q=0.6',\n",
    "    'User-Agent': 'Mozilla/5.0 (Macintosh; Intel Mac OS X 10_11_2) AppleWebKit/537.36 (KHTML, like Gecko) Chrome/58.0.3029.110 Safari/537.36',\n",
    "    'Referer': 'https://stats.nba.com/teams/boxscores-traditional/',\n",
    "    'x-nba-stats-origin': 'stats',\n",
    "    'x-nba-stats-token': 'true'\n",
    "}\n",
    "url = 'http://stats.nba.com/stats/leaguedashptdefend/?LeagueID=00&PerMode=PerGame&Season=2015-16&SeasonType=Regular+Season&DefenseCategory=Overall'"
   ]
  },
  {
   "cell_type": "code",
   "execution_count": 6,
   "metadata": {},
   "outputs": [],
   "source": [
    "position_json = requests.get(url, headers=headers).json()"
   ]
  },
  {
   "cell_type": "code",
   "execution_count": 16,
   "metadata": {},
   "outputs": [],
   "source": [
    "players_df = pd.DataFrame(position_json['resultSets'][0]['rowSet'], columns=position_json['resultSets'][0]['headers'])"
   ]
  },
  {
   "cell_type": "code",
   "execution_count": 20,
   "metadata": {},
   "outputs": [],
   "source": [
    "ids = players_df['CLOSE_DEF_PERSON_ID']\n",
    "positions = players_df['PLAYER_POSITION']\n",
    "ids_to_positions = dict(zip(ids, positions))"
   ]
  },
  {
   "cell_type": "code",
   "execution_count": 24,
   "metadata": {},
   "outputs": [],
   "source": [
    "pos = {'G': [], 'F': [], 'C': []}"
   ]
  },
  {
   "cell_type": "code",
   "execution_count": 25,
   "metadata": {},
   "outputs": [],
   "source": [
    "for key in ids_to_positions.keys():\n",
    "    position = ids_to_positions[key]\n",
    "    if '-' in position:\n",
    "        posa, posb = ids_to_positions[key].split('-')\n",
    "        pos[posa].append(key)\n",
    "        pos[posb].append(key)\n",
    "    else:\n",
    "        pos[position].append(key)"
   ]
  },
  {
   "cell_type": "code",
   "execution_count": 29,
   "metadata": {},
   "outputs": [],
   "source": [
    "np.save('positions.npy', pos) "
   ]
  }
 ],
 "metadata": {
  "kernelspec": {
   "display_name": "Python 3",
   "language": "python",
   "name": "python3"
  },
  "language_info": {
   "codemirror_mode": {
    "name": "ipython",
    "version": 3
   },
   "file_extension": ".py",
   "mimetype": "text/x-python",
   "name": "python",
   "nbconvert_exporter": "python",
   "pygments_lexer": "ipython3",
   "version": "3.7.3"
  }
 },
 "nbformat": 4,
 "nbformat_minor": 2
}
