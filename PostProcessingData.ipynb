{
 "cells": [
  {
   "cell_type": "code",
   "execution_count": 51,
   "metadata": {},
   "outputs": [],
   "source": [
    "import pandas as pd\n",
    "import numpy as np\n",
    "from nba_help import tracking, pbp, plotting, get_basic_statistics\n",
    "import matplotlib.pyplot as plt"
   ]
  },
  {
   "cell_type": "code",
   "execution_count": 52,
   "metadata": {},
   "outputs": [],
   "source": [
    "def get_score_assist_df(scorers, assistor, pass_defender, shot_defender):\n",
    "    scorers_df = pd.read_csv(scorers, header=None)\n",
    "    assistors_df = pd.read_csv(assistor, header=None)\n",
    "    pass_defenders_df = pd.read_csv(pass_defender, header=None)\n",
    "    shot_defenders_df = pd.read_csv(shot_defender, header=None)\n",
    "    score_assist_defend_df = pd.concat([assistors_df, scorers_df, pass_defenders_df, shot_defenders_df], axis=1)\n",
    "    \n",
    "    score_assist_defend_df.columns = [\"AssistorName\", \n",
    "                                      \"AssistorX\", \n",
    "                                      \"AssistorY\", \n",
    "                                      \"ScorerName\", \n",
    "                                      \"ScorerX\", \n",
    "                                      \"ScorerY\", \n",
    "                                      \"PassDefenderName\", \n",
    "                                      \"PassDefenderX\", \n",
    "                                      \"PassDefenderY\",\n",
    "                                      \"ShotDefenderName\", \n",
    "                                      \"ShotDefenderX\", \n",
    "                                      \"ShotDefenderY\"]\n",
    "    \n",
    "    score_assist_defend_df = score_assist_defend_df.astype({'AssistorX': float, \n",
    "                                                            'AssistorY': float, \n",
    "                                                            'ScorerX': float, \n",
    "                                                            'ScorerY': float,\n",
    "                                                            'ShotDefenderX': float,\n",
    "                                                            'ShotDefenderY': float,\n",
    "                                                            'PassDefenderX': float,\n",
    "                                                            'PassDefenderY': float})\n",
    "    \n",
    "    for i, row in score_assist_defend_df.iterrows():\n",
    "        if (row['AssistorX']) >= 47.0:\n",
    "            score_assist_defend_df.at[i, 'AssistorX'] = 94-(row['AssistorX'])\n",
    "            score_assist_defend_df.at[i, 'AssistorY'] = 50-(row['AssistorY'])\n",
    "        if float(row['ScorerX']) >= 47.0:\n",
    "            score_assist_defend_df.at[i, 'ScorerX'] = 94-(row['ScorerX'])\n",
    "            score_assist_defend_df.at[i, 'ScorerY'] = 50-(row['ScorerY'])\n",
    "        if float(row['ShotDefenderX']) >= 47.0:\n",
    "            score_assist_defend_df.at[i, 'ShotDefenderX'] = 94-(row['ShotDefenderX'])\n",
    "            score_assist_defend_df.at[i, 'ShotDefenderX'] = 50-(row['ShotDefenderX'])\n",
    "        if float(row['PassDefenderX']) >= 47.0:\n",
    "            score_assist_defend_df.at[i, 'PassDefenderX'] = 94-(row['PassDefenderX'])\n",
    "            score_assist_defend_df.at[i, 'PassDefenderX'] = 50-(row['PassDefenderX'])\n",
    "            \n",
    "    score_assist_defend_df['TeamName'] = \"\"\n",
    "    for i, row in score_assist_defend_df.iterrows():\n",
    "        assistor = get_basic_statistics.get_basic_stats_by_player(season=\"2015-16\", player_id=str(int(row['AssistorName'])))\n",
    "        shooter = get_basic_statistics.get_basic_stats_by_player(season=\"2015-16\", player_id=str(int(row['ScorerName'])))\n",
    "        shot_defender = get_basic_statistics.get_basic_stats_by_player(season=\"2015-16\", player_id=str(int(row['ShotDefenderName'])))\n",
    "        pass_defender = get_basic_statistics.get_basic_stats_by_player(season=\"2015-16\", player_id=str(int(row['PassDefenderName'])))\n",
    "\n",
    "        if shooter['TEAM_ABBREVIATION'] == assistor['TEAM_ABBREVIATION']:\n",
    "            score_assist_defend_df.at[i, 'TeamName'] = shooter['TEAM_ABBREVIATION']\n",
    "            \n",
    "        if shooter['TEAM_ABBREVIATION'] != pass_defender['TEAM_ABBREVIATION'] and shooter['TEAM_ABBREVIATION'] != shot_defender['TEAM_ABBREVIATION']:\n",
    "            score_assist_defend_df.at[i, 'OtherTeamName'] = pass_defender['TEAM_ABBREVIATION']\n",
    "            \n",
    "    return score_assist_defend_df"
   ]
  },
  {
   "cell_type": "code",
   "execution_count": 53,
   "metadata": {},
   "outputs": [],
   "source": [
    "score_assist_defend_make_df = get_score_assist_df(\"nonaggregated/scorers_on_assist_new_algo.csv\", \n",
    "                                                  \"nonaggregated/assistor_on_assist_new_algo.csv\", \n",
    "                                                  \"nonaggregated/defender_on_assist_new_algo.csv\",\n",
    "                                                  \"nonaggregated/shoot_defender_on_assist_new_algo.csv\")"
   ]
  },
  {
   "cell_type": "code",
   "execution_count": 54,
   "metadata": {},
   "outputs": [],
   "source": [
    "score_assist_defend_miss_df = get_score_assist_df(\"nonaggregated/scorers_on_miss_new_algo.csv\", \n",
    "                                                  \"nonaggregated/assistor_on_miss_new_algo.csv\", \n",
    "                                                  \"nonaggregated/defender_on_miss_new_algo.csv\",\n",
    "                                                  \"nonaggregated/shoot_defender_on_miss_new_algo.csv\")"
   ]
  },
  {
   "cell_type": "code",
   "execution_count": 55,
   "metadata": {},
   "outputs": [],
   "source": [
    "def is_a_three(x, y):\n",
    "    x_line = 300-((y-250)**2)/188 \n",
    "    return x > x_line"
   ]
  },
  {
   "cell_type": "code",
   "execution_count": 56,
   "metadata": {},
   "outputs": [],
   "source": [
    "def get_location_on_court(x, y):\n",
    "    location = \"\"\n",
    "    if x < 130:\n",
    "        location += \"Corner\"\n",
    "        if y >= 475 or y <= 25:\n",
    "            location += \"3\"\n",
    "        elif (25 < y < 175) or (325 < y < 475):\n",
    "            location += \"2\"\n",
    "        else:\n",
    "            location += \"Paint\"\n",
    "    else:\n",
    "        three = is_a_three(x,y)            \n",
    "        if three:\n",
    "            location += \"AboveTheBreak3\"\n",
    "        else:\n",
    "            location += \"Midrange2\"\n",
    "            \n",
    "    if location == \"CornerPaint\":\n",
    "        location = \"Paint\"\n",
    "        \n",
    "    return location"
   ]
  },
  {
   "cell_type": "code",
   "execution_count": 57,
   "metadata": {},
   "outputs": [],
   "source": [
    "def get_location_for_df(df):\n",
    "    df['LocationScorer'] = \"\"\n",
    "    df['LocationAssistor'] = \"\"\n",
    "    for i, row in df.iterrows():\n",
    "        df.at[i, 'LocationScorer'] = get_location_on_court(row['ScorerX']*10, row['ScorerY']*10)\n",
    "        df.at[i, 'LocationAssistor'] = get_location_on_court(row['AssistorX']*10, row['AssistorY']*10)"
   ]
  },
  {
   "cell_type": "code",
   "execution_count": 58,
   "metadata": {},
   "outputs": [],
   "source": [
    "get_location_for_df(score_assist_defend_make_df)\n",
    "get_location_for_df(score_assist_defend_miss_df)"
   ]
  },
  {
   "cell_type": "code",
   "execution_count": 59,
   "metadata": {},
   "outputs": [],
   "source": [
    "score_assist_defend_make_df = score_assist_defend_make_df.loc[score_assist_defend_make_df['TeamName'].isnull()==False]  \n",
    "score_assist_defend_miss_df = score_assist_defend_miss_df.loc[score_assist_defend_miss_df['TeamName'].isnull()==False]  "
   ]
  },
  {
   "cell_type": "code",
   "execution_count": 60,
   "metadata": {},
   "outputs": [],
   "source": [
    "score_assist_defend_make_df.to_csv(\"aggregated/assist_new_algo.csv\")\n",
    "score_assist_defend_miss_df.to_csv(\"aggregated/miss_new_algo.csv\")"
   ]
  }
 ],
 "metadata": {
  "kernelspec": {
   "display_name": "Python 3",
   "language": "python",
   "name": "python3"
  },
  "language_info": {
   "codemirror_mode": {
    "name": "ipython",
    "version": 3
   },
   "file_extension": ".py",
   "mimetype": "text/x-python",
   "name": "python",
   "nbconvert_exporter": "python",
   "pygments_lexer": "ipython3",
   "version": "3.7.3"
  }
 },
 "nbformat": 4,
 "nbformat_minor": 2
}
